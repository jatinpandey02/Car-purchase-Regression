{
 "cells": [
  {
   "cell_type": "code",
   "execution_count": 2,
   "metadata": {},
   "outputs": [],
   "source": [
    "import pandas as pd\n",
    "import numpy as np\n",
    "from sklearn.preprocessing import MinMaxScaler\n",
    "from sklearn.model_selection import train_test_split\n",
    "from tensorflow.keras.layers import Dense,Dropout\n",
    "from tensorflow.keras.models import Sequential\n",
    "import tensorflow as tf\n",
    "from sklearn.linear_model import LinearRegression"
   ]
  },
  {
   "cell_type": "code",
   "execution_count": 3,
   "metadata": {},
   "outputs": [],
   "source": [
    "df = pd.read_csv('Car_Purchasing_Data.csv',encoding = \"ISO-8859-1\")"
   ]
  },
  {
   "cell_type": "code",
   "execution_count": 4,
   "metadata": {},
   "outputs": [],
   "source": [
    "x = df[['Gender','Age','Annual Salary','Credit Card Debt','Net Worth']]\n",
    "y = df['Car Purchase Amount']"
   ]
  },
  {
   "cell_type": "code",
   "execution_count": 5,
   "metadata": {},
   "outputs": [],
   "source": [
    "X_train, X_test, y_train, y_test = train_test_split(x,y,test_size=0.3)"
   ]
  },
  {
   "cell_type": "code",
   "execution_count": 6,
   "metadata": {},
   "outputs": [
    {
     "output_type": "execute_result",
     "data": {
      "text/plain": "LinearRegression(copy_X=True, fit_intercept=True, n_jobs=None, normalize=False)"
     },
     "metadata": {},
     "execution_count": 6
    }
   ],
   "source": [
    "model1 = LinearRegression()\n",
    "model1.fit(X_train,y_train)"
   ]
  },
  {
   "cell_type": "code",
   "execution_count": 7,
   "metadata": {},
   "outputs": [
    {
     "output_type": "execute_result",
     "data": {
      "text/plain": "0.9999999804014249"
     },
     "metadata": {},
     "execution_count": 7
    }
   ],
   "source": [
    "model1.score(X_test,y_test)"
   ]
  },
  {
   "cell_type": "code",
   "execution_count": 8,
   "metadata": {},
   "outputs": [
    {
     "output_type": "execute_result",
     "data": {
      "text/plain": "0.9999999814883"
     },
     "metadata": {},
     "execution_count": 8
    }
   ],
   "source": [
    "model1.score(X_train,y_train)"
   ]
  },
  {
   "cell_type": "code",
   "execution_count": 9,
   "metadata": {},
   "outputs": [],
   "source": [
    "model2 = Sequential()\n",
    "model2.add(Dense(100,activation='relu'))\n",
    "model2.add(Dense(10,activation='relu'))\n",
    "model2.add(Dense(1,activation='relu'))"
   ]
  },
  {
   "cell_type": "code",
   "execution_count": 10,
   "metadata": {},
   "outputs": [
    {
     "output_type": "stream",
     "name": "stdout",
     "text": "WARNING:tensorflow:From /Library/Frameworks/Python.framework/Versions/3.7/lib/python3.7/site-packages/tensorflow_core/python/ops/resource_variable_ops.py:1630: calling BaseResourceVariable.__init__ (from tensorflow.python.ops.resource_variable_ops) with constraint is deprecated and will be removed in a future version.\nInstructions for updating:\nIf using Keras pass *_constraint arguments to layers.\n"
    }
   ],
   "source": [
    "opt = tf.keras.optimizers.Adam(learning_rate=0.001)\n",
    "model2.compile(optimizer=opt,loss=tf.keras.losses.MeanSquaredError(),metrics=[tf.keras.metrics.MeanAbsolutePercentageError()])"
   ]
  },
  {
   "cell_type": "code",
   "execution_count": 11,
   "metadata": {},
   "outputs": [],
   "source": [
    "scaler = dict()\n",
    "for s in x.columns:\n",
    "    scaler[s] = MinMaxScaler()\n",
    "    x[s] =scaler[s].fit_transform(np.array(x[s]).reshape(-1,1))"
   ]
  },
  {
   "cell_type": "code",
   "execution_count": 12,
   "metadata": {},
   "outputs": [],
   "source": [
    "x  = np.array(x)"
   ]
  },
  {
   "cell_type": "code",
   "execution_count": 13,
   "metadata": {},
   "outputs": [
    {
     "output_type": "execute_result",
     "data": {
      "text/plain": "array([[0.        , 0.4370344 , 0.53515116, 0.57836085, 0.22342985],\n       [0.        , 0.41741247, 0.58308616, 0.476028  , 0.52140195],\n       [1.        , 0.46305795, 0.42248189, 0.55579674, 0.63108896],\n       ...,\n       [1.        , 0.67886994, 0.61110973, 0.52822145, 0.75972584],\n       [1.        , 0.78321017, 0.37264988, 0.69914746, 0.3243129 ],\n       [1.        , 0.53462305, 0.51713347, 0.46690159, 0.45198622]])"
     },
     "metadata": {},
     "execution_count": 13
    }
   ],
   "source": [
    "x"
   ]
  },
  {
   "cell_type": "code",
   "execution_count": 14,
   "metadata": {},
   "outputs": [],
   "source": [
    "scaler['Car Purchase Amount'] =  MinMaxScaler()\n",
    "y = scaler['Car Purchase Amount'].fit_transform(np.array(y).reshape(-1,1))"
   ]
  },
  {
   "cell_type": "code",
   "execution_count": 20,
   "metadata": {},
   "outputs": [
    {
     "output_type": "execute_result",
     "data": {
      "text/plain": "(500, 1)"
     },
     "metadata": {},
     "execution_count": 20
    }
   ],
   "source": [
    "y.shape"
   ]
  },
  {
   "cell_type": "code",
   "execution_count": 17,
   "metadata": {},
   "outputs": [],
   "source": [
    "X_train, X_test, y_train, y_test = train_test_split(x,y,test_size=0.3)"
   ]
  },
  {
   "cell_type": "code",
   "execution_count": 18,
   "metadata": {
    "tags": [
     "outputPrepend",
     "outputPrepend",
     "outputPrepend",
     "outputPrepend",
     "outputPrepend",
     "outputPrepend",
     "outputPrepend",
     "outputPrepend",
     "outputPrepend",
     "outputPrepend",
     "outputPrepend",
     "outputPrepend",
     "outputPrepend",
     "outputPrepend",
     "outputPrepend",
     "outputPrepend",
     "outputPrepend",
     "outputPrepend",
     "outputPrepend",
     "outputPrepend",
     "outputPrepend",
     "outputPrepend",
     "outputPrepend",
     "outputPrepend"
    ]
   },
   "outputs": [
    {
     "output_type": "stream",
     "name": "stdout",
     "text": "Train on 350 samples\nEpoch 1/60\n350/350 [==============================] - 0s 661us/sample - loss: 0.1472 - mean_absolute_percentage_error: 366794.6250\nEpoch 2/60\n350/350 [==============================] - 0s 250us/sample - loss: 0.0152 - mean_absolute_percentage_error: 1019266.0000\nEpoch 3/60\n350/350 [==============================] - 0s 253us/sample - loss: 0.0085 - mean_absolute_percentage_error: 964613.3125\nEpoch 4/60\n350/350 [==============================] - 0s 299us/sample - loss: 0.0063 - mean_absolute_percentage_error: 821723.5000\nEpoch 5/60\n350/350 [==============================] - 0s 214us/sample - loss: 0.0045 - mean_absolute_percentage_error: 742054.0000\nEpoch 6/60\n350/350 [==============================] - 0s 296us/sample - loss: 0.0031 - mean_absolute_percentage_error: 605969.2500\nEpoch 7/60\n350/350 [==============================] - 0s 618us/sample - loss: 0.0022 - mean_absolute_percentage_error: 536935.0625\nEpoch 8/60\n350/350 [==============================] - 0s 257us/sample - loss: 0.0016 - mean_absolute_percentage_error: 452015.9688\nEpoch 9/60\n350/350 [==============================] - 0s 285us/sample - loss: 0.0011 - mean_absolute_percentage_error: 391814.0312\nEpoch 10/60\n350/350 [==============================] - 0s 258us/sample - loss: 8.7602e-04 - mean_absolute_percentage_error: 364998.6875\nEpoch 11/60\n350/350 [==============================] - 0s 283us/sample - loss: 6.5202e-04 - mean_absolute_percentage_error: 319028.9688\nEpoch 12/60\n350/350 [==============================] - 0s 261us/sample - loss: 5.2477e-04 - mean_absolute_percentage_error: 289889.5312\nEpoch 13/60\n350/350 [==============================] - 0s 486us/sample - loss: 4.3577e-04 - mean_absolute_percentage_error: 275694.0625\nEpoch 14/60\n350/350 [==============================] - 0s 222us/sample - loss: 3.5451e-04 - mean_absolute_percentage_error: 251250.0625\nEpoch 15/60\n350/350 [==============================] - 0s 254us/sample - loss: 2.5499e-04 - mean_absolute_percentage_error: 242927.5000\nEpoch 16/60\n350/350 [==============================] - 0s 354us/sample - loss: 1.8566e-04 - mean_absolute_percentage_error: 234755.1719\nEpoch 17/60\n350/350 [==============================] - 0s 369us/sample - loss: 1.4079e-04 - mean_absolute_percentage_error: 216331.7500\nEpoch 18/60\n350/350 [==============================] - 0s 423us/sample - loss: 1.0494e-04 - mean_absolute_percentage_error: 201671.2188\nEpoch 19/60\n350/350 [==============================] - 0s 290us/sample - loss: 8.1490e-05 - mean_absolute_percentage_error: 188132.7031\nEpoch 20/60\n350/350 [==============================] - 0s 248us/sample - loss: 6.0919e-05 - mean_absolute_percentage_error: 179099.2500\nEpoch 21/60\n350/350 [==============================] - 0s 274us/sample - loss: 4.6703e-05 - mean_absolute_percentage_error: 167374.7031\nEpoch 22/60\n350/350 [==============================] - 0s 257us/sample - loss: 3.6215e-05 - mean_absolute_percentage_error: 156979.0781\nEpoch 23/60\n350/350 [==============================] - 0s 232us/sample - loss: 3.1750e-05 - mean_absolute_percentage_error: 154048.5156\nEpoch 24/60\n350/350 [==============================] - 0s 235us/sample - loss: 2.3828e-05 - mean_absolute_percentage_error: 143054.3438\nEpoch 25/60\n350/350 [==============================] - 0s 189us/sample - loss: 1.9831e-05 - mean_absolute_percentage_error: 138819.7031\nEpoch 26/60\n350/350 [==============================] - 0s 238us/sample - loss: 1.7422e-05 - mean_absolute_percentage_error: 131909.6875\nEpoch 27/60\n350/350 [==============================] - 0s 233us/sample - loss: 1.7052e-05 - mean_absolute_percentage_error: 127611.3047\nEpoch 28/60\n350/350 [==============================] - 0s 222us/sample - loss: 1.4553e-05 - mean_absolute_percentage_error: 123507.6250\nEpoch 29/60\n350/350 [==============================] - 0s 247us/sample - loss: 1.3288e-05 - mean_absolute_percentage_error: 119266.0703\nEpoch 30/60\n350/350 [==============================] - 0s 259us/sample - loss: 1.2277e-05 - mean_absolute_percentage_error: 115281.6016\nEpoch 31/60\n350/350 [==============================] - 0s 262us/sample - loss: 1.0769e-05 - mean_absolute_percentage_error: 111888.1406\nEpoch 32/60\n350/350 [==============================] - 0s 345us/sample - loss: 1.0148e-05 - mean_absolute_percentage_error: 111348.9688\nEpoch 33/60\n350/350 [==============================] - 0s 290us/sample - loss: 9.9452e-06 - mean_absolute_percentage_error: 103892.2656\nEpoch 34/60\n350/350 [==============================] - 0s 445us/sample - loss: 8.8563e-06 - mean_absolute_percentage_error: 102293.4844\nEpoch 35/60\n350/350 [==============================] - 0s 309us/sample - loss: 8.8684e-06 - mean_absolute_percentage_error: 97852.9062\nEpoch 36/60\n350/350 [==============================] - 0s 337us/sample - loss: 8.9170e-06 - mean_absolute_percentage_error: 94638.3125\nEpoch 37/60\n350/350 [==============================] - 0s 296us/sample - loss: 8.2124e-06 - mean_absolute_percentage_error: 93472.4766\nEpoch 38/60\n350/350 [==============================] - 0s 258us/sample - loss: 7.5252e-06 - mean_absolute_percentage_error: 89169.7422\nEpoch 39/60\n350/350 [==============================] - 0s 235us/sample - loss: 8.1108e-06 - mean_absolute_percentage_error: 87302.7734\nEpoch 40/60\n350/350 [==============================] - 0s 243us/sample - loss: 6.9388e-06 - mean_absolute_percentage_error: 83426.8203\nEpoch 41/60\n350/350 [==============================] - 0s 276us/sample - loss: 6.6304e-06 - mean_absolute_percentage_error: 82647.4219\nEpoch 42/60\n350/350 [==============================] - 0s 227us/sample - loss: 6.3258e-06 - mean_absolute_percentage_error: 77192.2500\nEpoch 43/60\n350/350 [==============================] - 0s 260us/sample - loss: 6.4843e-06 - mean_absolute_percentage_error: 77728.8906\nEpoch 44/60\n350/350 [==============================] - 0s 231us/sample - loss: 6.1387e-06 - mean_absolute_percentage_error: 72204.2344\nEpoch 45/60\n350/350 [==============================] - 0s 244us/sample - loss: 5.7547e-06 - mean_absolute_percentage_error: 71968.5781\nEpoch 46/60\n350/350 [==============================] - 0s 258us/sample - loss: 5.9615e-06 - mean_absolute_percentage_error: 71066.5547\nEpoch 47/60\n350/350 [==============================] - 0s 226us/sample - loss: 4.7402e-06 - mean_absolute_percentage_error: 68080.8672\nEpoch 48/60\n350/350 [==============================] - 0s 219us/sample - loss: 5.1638e-06 - mean_absolute_percentage_error: 66613.9062\nEpoch 49/60\n350/350 [==============================] - 0s 226us/sample - loss: 4.5462e-06 - mean_absolute_percentage_error: 64446.3828\nEpoch 50/60\n350/350 [==============================] - 0s 189us/sample - loss: 4.4851e-06 - mean_absolute_percentage_error: 61405.2969\nEpoch 51/60\n350/350 [==============================] - 0s 170us/sample - loss: 4.0836e-06 - mean_absolute_percentage_error: 60231.9258\nEpoch 52/60\n350/350 [==============================] - 0s 208us/sample - loss: 4.5681e-06 - mean_absolute_percentage_error: 56815.0586\nEpoch 53/60\n350/350 [==============================] - 0s 215us/sample - loss: 4.2403e-06 - mean_absolute_percentage_error: 57037.1328\nEpoch 54/60\n350/350 [==============================] - 0s 224us/sample - loss: 4.2831e-06 - mean_absolute_percentage_error: 55716.6758\nEpoch 55/60\n350/350 [==============================] - 0s 160us/sample - loss: 4.5285e-06 - mean_absolute_percentage_error: 52097.0000\nEpoch 56/60\n350/350 [==============================] - 0s 169us/sample - loss: 4.5281e-06 - mean_absolute_percentage_error: 51312.4453\nEpoch 57/60\n350/350 [==============================] - 0s 280us/sample - loss: 3.1872e-06 - mean_absolute_percentage_error: 48773.1953\nEpoch 58/60\n350/350 [==============================] - 0s 275us/sample - loss: 3.3067e-06 - mean_absolute_percentage_error: 48670.7656\nEpoch 59/60\n350/350 [==============================] - 0s 313us/sample - loss: 3.4095e-06 - mean_absolute_percentage_error: 46546.3398\nEpoch 60/60\n350/350 [==============================] - 0s 292us/sample - loss: 3.3980e-06 - mean_absolute_percentage_error: 45526.7578\n"
    },
    {
     "output_type": "execute_result",
     "data": {
      "text/plain": "<tensorflow.python.keras.callbacks.History at 0x13e375ed0>"
     },
     "metadata": {},
     "execution_count": 18
    }
   ],
   "source": [
    "model2.fit(X_train,y_train,epochs=60, batch_size=10)"
   ]
  },
  {
   "cell_type": "code",
   "execution_count": 19,
   "metadata": {},
   "outputs": [
    {
     "output_type": "stream",
     "name": "stdout",
     "text": "150/150 [==============================] - 0s 604us/sample - loss: 5.5696e-06 - mean_absolute_percentage_error: 0.5971\n"
    },
    {
     "output_type": "execute_result",
     "data": {
      "text/plain": "[5.569646397513376e-06, 0.5970734]"
     },
     "metadata": {},
     "execution_count": 19
    }
   ],
   "source": [
    "model2.evaluate(X_test,y_test)"
   ]
  },
  {
   "cell_type": "code",
   "execution_count": null,
   "metadata": {},
   "outputs": [],
   "source": []
  }
 ],
 "metadata": {
  "language_info": {
   "codemirror_mode": {
    "name": "ipython",
    "version": 3
   },
   "file_extension": ".py",
   "mimetype": "text/x-python",
   "name": "python",
   "nbconvert_exporter": "python",
   "pygments_lexer": "ipython3",
   "version": "3.7.4-final"
  },
  "orig_nbformat": 2,
  "kernelspec": {
   "name": "python37464bit4a327b2d8a9e41ddac768c1c39e13e47",
   "display_name": "Python 3.7.4 64-bit"
  }
 },
 "nbformat": 4,
 "nbformat_minor": 2
}